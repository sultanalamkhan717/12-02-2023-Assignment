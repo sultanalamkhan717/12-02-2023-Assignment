{
 "cells": [
  {
   "cell_type": "markdown",
   "id": "2e4a7721-b48d-4033-be16-4a3b3972c200",
   "metadata": {},
   "source": [
    "#ANSWER-1"
   ]
  },
  {
   "cell_type": "markdown",
   "id": "ab82c779-85b4-4bef-9859-1f440e77ea7a",
   "metadata": {},
   "source": [
    "In Python, an exception is an error that occurs during the execution of a program that disrupts the normal flow of the program's\n",
    "instructions. When an exception occurs, the program immediately stops executing and Python raises an exception object.\n",
    "Exceptions can occur for various reasons, such as invalid user input, network issues, and file access problems. \n",
    "Python provides a mechanism for handling exceptions using the try-except statement.\n",
    "This statement allows you to write code that handles exceptions in a graceful manner, without causing the program to crash.\n",
    "\n",
    "Syntax errors, on the other hand, are errors that occur when the Python interpreter cannot parse your code due to a violation of the\n",
    "language's rules for syntax.\n",
    "For example, if you forget to close a parenthesis or a quote, the interpreter will raise a syntax error.\n",
    "Unlike exceptions, which occur at runtime, syntax errors are detected by the interpreter before the program is executed.\n",
    "\n",
    "The main difference between exceptions and syntax errors is that syntax errors occur when the code is being parsed,\n",
    "while exceptions occur during program execution. Additionally, syntax errors indicate a problem with the code itself,\n",
    "whereas exceptions indicate a problem with the program's logic or external factors.\n",
    "Finally, syntax errors are always fatal and must be fixed before the program can be run, while exceptions can be handled by the program at runtime.\n",
    "\n"
   ]
  },
  {
   "cell_type": "markdown",
   "id": "07a38228-e4eb-43ae-9c82-97c07dd3cd04",
   "metadata": {
    "tags": []
   },
   "source": [
    "#ANSWER-2"
   ]
  },
  {
   "cell_type": "markdown",
   "id": "bfdbe3ad-7887-4930-a14a-ce5a6e177703",
   "metadata": {},
   "source": [
    "When an exception is not handled, it will cause the program to terminate abruptly and display an error message \n",
    "that explains the cause of the exception.\n",
    "This can lead to unexpected behavior and make it difficult to debug and maintain the program.\n",
    "\n"
   ]
  },
  {
   "cell_type": "code",
   "execution_count": 3,
   "id": "26b063e8-b2b5-403d-8270-217b2bcca088",
   "metadata": {},
   "outputs": [
    {
     "name": "stdout",
     "output_type": "stream",
     "text": [
      "Error: Division by zero\n"
     ]
    }
   ],
   "source": [
    "def divide_by_zero():\n",
    "    try:\n",
    "        x = 10 / 0\n",
    "        print(x)\n",
    "    except ZeroDivisionError:\n",
    "        print(\"Error: Division by zero\")\n",
    "\n",
    "divide_by_zero()\n"
   ]
  },
  {
   "cell_type": "markdown",
   "id": "c06b0a83-9a8a-4b12-ab93-7c3927d775dc",
   "metadata": {},
   "source": [
    "#ANSWER-3"
   ]
  },
  {
   "cell_type": "code",
   "execution_count": null,
   "id": "f91b8944-f86b-454b-a5f4-b91bb5204b08",
   "metadata": {},
   "outputs": [],
   "source": [
    "try:\n",
    "    # Code that may raise an exception\n",
    "except ExceptionType:\n",
    "    # Code to handle the exception\n",
    "\n"
   ]
  },
  {
   "cell_type": "code",
   "execution_count": null,
   "id": "1dda3691-5458-48d9-a249-a83b2cd91596",
   "metadata": {},
   "outputs": [],
   "source": [
    "try:\n",
    "    x = int(input(\"Enter a number: \"))\n",
    "    y = 10 / x\n",
    "    print(\"The result is\", y)\n",
    "except ZeroDivisionError:\n",
    "    print(\"Cannot divide by zero\")\n",
    "except ValueError:\n",
    "    print(\"Invalid input\")\n"
   ]
  },
  {
   "cell_type": "markdown",
   "id": "646b05e0-d70c-4a5c-917e-ab46fd77c43d",
   "metadata": {},
   "source": [
    "#ANSWER-4"
   ]
  },
  {
   "cell_type": "markdown",
   "id": "60337174-7476-4965-aac2-6b3dd97472c2",
   "metadata": {},
   "source": [
    "#ans-4-A"
   ]
  },
  {
   "cell_type": "markdown",
   "id": "527049fb-5355-44de-b213-e5da03902751",
   "metadata": {},
   "source": [
    "In Python, try and except are used to catch and handle exceptions that may occur during the execution of a program.\n",
    "However, Python also provides an optional else block that can be used in conjunction with try and except.\n",
    "The else block will execute only if no exception is raised in the corresponding try block."
   ]
  },
  {
   "cell_type": "code",
   "execution_count": null,
   "id": "72df3f15-3d48-4224-9f7a-c58854d9fb29",
   "metadata": {},
   "outputs": [],
   "source": [
    "try:\n",
    "    x = int(input(\"Enter a number: \"))\n",
    "    y = int(input(\"Enter another number: \"))\n",
    "    result = x / y\n",
    "except ValueError:\n",
    "    print(\"You must enter two integers.\")\n",
    "except ZeroDivisionError:\n",
    "    print(\"Cannot divide by zero.\")\n",
    "else:\n",
    "    print(f\"The result is {result}.\")"
   ]
  },
  {
   "cell_type": "markdown",
   "id": "1fe23d03-8583-47c6-87c1-cc7f4a2fdd49",
   "metadata": {},
   "source": [
    "#Ans-4-B"
   ]
  },
  {
   "cell_type": "raw",
   "id": "304ca0bf-4281-4148-a84a-4dc40ccf133f",
   "metadata": {},
   "source": [
    "In Python, finally is a block of code that is executed regardless of whether an exception is raised or not.\n",
    "The finally block is commonly used to perform cleanup actions such as closing files or database connections,\n",
    "regardless of whether an exception is raised during the execution of the program."
   ]
  },
  {
   "cell_type": "code",
   "execution_count": 1,
   "id": "b5480b66-4daf-43ae-8ae3-9ed584f44926",
   "metadata": {},
   "outputs": [],
   "source": [
    "try:\n",
    "    f = open(\"example.txt\", \"r\")\n",
    "    # Perform some operations on the file\n",
    "except IOError:\n",
    "    print(\"An error occurred while accessing the file.\")\n",
    "finally:\n",
    "    f.close()\n"
   ]
  },
  {
   "cell_type": "markdown",
   "id": "e4c7133d-4dac-413f-82f8-b15c60278f61",
   "metadata": {},
   "source": [
    "#Ans-4-c"
   ]
  },
  {
   "cell_type": "raw",
   "id": "0c12d1e5-1568-4c99-aa26-9d818349ea57",
   "metadata": {},
   "source": [
    "In Python, raise is a keyword that is used to raise an exception explicitly.\n",
    "The raise statement allows you to generate a specific exception at any point in your code,\n",
    "instead of waiting for an exception to be raised automatically."
   ]
  },
  {
   "cell_type": "code",
   "execution_count": 3,
   "id": "38f1843e-3479-4ebd-80b5-1a6c3d09c437",
   "metadata": {},
   "outputs": [
    {
     "name": "stdout",
     "output_type": "stream",
     "text": [
      "An error occurred: Cannot divide by zero\n"
     ]
    }
   ],
   "source": [
    "def divide(x, y):\n",
    "    if y == 0:\n",
    "        raise ZeroDivisionError(\"Cannot divide by zero\")\n",
    "    else:\n",
    "        return x / y\n",
    "\n",
    "try:\n",
    "    result = divide(10, 0)\n",
    "    print(result)\n",
    "except ZeroDivisionError as e:\n",
    "    print(f\"An error occurred: {e}\")\n"
   ]
  },
  {
   "cell_type": "markdown",
   "id": "f64fda6c-2261-4f23-93df-4935b00f05c2",
   "metadata": {},
   "source": [
    "#ANSWER-5"
   ]
  },
  {
   "cell_type": "markdown",
   "id": "0710787a-b134-4f7b-aac6-f4df6e1905df",
   "metadata": {},
   "source": [
    "As an artificial intelligence language model, I don't have personal experiences, emotions, or feelings.\n",
    "However, I can provide you with an explanation of what a custom experience might mean in the context of Python programming.\n",
    "Custom experience in Python refers to the process of creating custom classes, functions,\n",
    "or objects that are tailored to meet specific requirements or needs of a project. \n",
    "This can involve defining new data structures, algorithms, or behaviors that are not available in the standard Python libraries.\n",
    "\n",
    "For example, you might create a custom class to represent a complex number with additional methods for performing mathematical operations on complex numbers.\n",
    "Or you might create a custom function to generate unique IDs for objects based on specific criteria.\n",
    "\n",
    "Creating custom experiences in Python requires a good understanding of the language's syntax and programming concepts.\n",
    "It also involves knowledge of software engineering principles, such as modularity, abstraction, and reusability,\n",
    "to ensure that the custom code is maintainable and scalable.\n",
    "\n",
    "Some common Python libraries, such as NumPy, Pandas, and TensorFlow, provide extensive support for custom experiences through their APIs and extension mechanisms.\n",
    "These libraries allow developers to create custom data types, functions, and algorithms that integrate seamlessly with the rest of the library's functionality.\n",
    "\n",
    "Overall, custom experiences in Python can help developers create more efficient, powerful, and flexible code that meets the specific needs of their projects.\n",
    "\n",
    "\n",
    "\n",
    "\n",
    "\n",
    "\n",
    "We need custom experiences in Python for several reasons:\n",
    "\n",
    "To solve specific problems: Sometimes, the standard Python libraries may not have built-in solutions to meet the specific requirements of a project.\n",
    "In such cases, creating custom experiences can help developers solve specific problems more efficiently and effectively.\n",
    "For example, imagine you are working on a project that requires a custom algorithm to process and analyze data in a particular way.\n",
    "Creating a custom function or class to implement the algorithm can make the code more readable, modular, and easier to maintain.\n",
    "\n",
    "To extend functionality: Custom experiences can also be used to extend the functionality of existing libraries or tools.\n",
    "For example, you might want to add new features to an open-source library or framework that does not currently support your use case.\n",
    "Creating a custom extension or plugin can allow you to integrate your features seamlessly with the existing codebase.\n",
    "\n",
    "To improve performance: Custom experiences can also be used to optimize code performance for specific use cases. \n",
    "For example, you might need to process large amounts of data in real-time or perform complex mathematical operations that are not available in the standard libraries. Creating a custom implementation can help you optimize the code for performance and speed up the execution time.\n",
    "\n",
    "Overall, custom experiences in Python allow developers to create more efficient, powerful, and flexible code that meets the specific needs of their projects. \n",
    "By customizing the code to fit the specific requirements, developers can achieve better results, improve code quality, and reduce development time and costs.\n"
   ]
  },
  {
   "cell_type": "markdown",
   "id": "990d61c1-b182-465d-9671-4625d4770c5a",
   "metadata": {},
   "source": [
    "#ANSWER-6"
   ]
  },
  {
   "cell_type": "code",
   "execution_count": 1,
   "id": "ac26228a-7527-4e47-b708-08fd3e13ca7c",
   "metadata": {},
   "outputs": [
    {
     "name": "stdout",
     "output_type": "stream",
     "text": [
      "An error occurred: Value must be positive\n"
     ]
    }
   ],
   "source": [
    "class MyCustomException(Exception):\n",
    "    pass\n",
    "\n",
    "def my_function(value):\n",
    "    if value < 0:\n",
    "        raise MyCustomException(\"Value must be positive\")\n",
    "    else:\n",
    "        return value\n",
    "\n",
    "try:\n",
    "    result = my_function(-5)\n",
    "    print(result)\n",
    "except MyCustomException as e:\n",
    "    print(f\"An error occurred: {e}\")\n"
   ]
  },
  {
   "cell_type": "markdown",
   "id": "7449f5ee-6ad8-4042-b3e0-abef20d1c1cd",
   "metadata": {},
   "source": [
    "In this example, we define a custom exception class called MyCustomException that inherits from the Exception base class.\n",
    "We then define a function called my_function that takes a value as an argument and raises an instance of MyCustomException\n",
    "with a custom error message if the value is negative. Otherwise, the function returns the value.\n",
    "\n",
    "The try block then calls my_function with a negative value, which results in a MyCustomException exception being raised.\n",
    "The except block then catches the exception and prints an error message."
   ]
  },
  {
   "cell_type": "code",
   "execution_count": null,
   "id": "17602bf5-07eb-4597-aa66-4860072c76c8",
   "metadata": {},
   "outputs": [],
   "source": []
  }
 ],
 "metadata": {
  "kernelspec": {
   "display_name": "Python 3 (ipykernel)",
   "language": "python",
   "name": "python3"
  },
  "language_info": {
   "codemirror_mode": {
    "name": "ipython",
    "version": 3
   },
   "file_extension": ".py",
   "mimetype": "text/x-python",
   "name": "python",
   "nbconvert_exporter": "python",
   "pygments_lexer": "ipython3",
   "version": "3.10.8"
  }
 },
 "nbformat": 4,
 "nbformat_minor": 5
}
